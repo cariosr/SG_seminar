{
 "cells": [
  {
   "cell_type": "code",
   "execution_count": 1,
   "metadata": {},
   "outputs": [],
   "source": [
    "# Mini-batch stochastic gradient descent.\n",
    "def sgd(gradient, lr, batch_size):\n",
    "    #print(gradient)\n",
    "    return  np.multiply(lr, gradient)/batch_size\n",
    "\n"
   ]
  },
  {
   "cell_type": "code",
   "execution_count": 2,
   "metadata": {},
   "outputs": [
    {
     "data": {
      "image/png": "[encoded data removed]",
      "text/plain": [
       "<Figure size 432x288 with 1 Axes>"
      ]
     },
     "metadata": {
      "needs_background": "light"
     },
     "output_type": "display_data"
    }
   ],
   "source": [
    "import numpy as np  \n",
    "from autograd import grad\n",
    "import random\n",
    "import matplotlib.pyplot as plt\n",
    "import numpy as np\n",
    "\n",
    "#mx.random.seed(1)\n",
    "random.seed(1)\n",
    "\n",
    "# Generate data.\n",
    "num_inputs = 2 # Including the dim of bias\n",
    "num_examples = 100\n",
    "true_w = [2, 0]\n",
    "true_w = np.reshape(true_w, (num_inputs, 1))\n",
    "X = np.random.normal(scale=1, size=(num_examples, num_inputs-1))\n",
    "X = np.c_[X,np.ones((len(X), 1))]  # Including the bias 1\n",
    "#X = np.array([[-1],[0],[1]])\n",
    "#X = np.c_[X,np.ones((len(X), 1))]\n",
    "y = np.dot(X,true_w)\n",
    "y += .1 * np.random.normal(scale=1, size=y.shape)\n",
    "\n",
    "\n",
    "\n",
    "plt.plot(X[:,0],y, '*')\n",
    "\n",
    "# Construct data iterator.\n",
    "def data_iter(batch_size):\n",
    "    idx = list(range(num_examples))\n",
    "    random.shuffle(idx)\n",
    "    for batch_i, i in enumerate(range(0, num_examples, batch_size)):\n",
    "        j = np.array(idx[i: min(i + batch_size, num_examples)])\n",
    "        yield batch_i, X[j], y[j]\n",
    "\n",
    "# Initialize model parameters.\n",
    "def init_params():\n",
    "    return np.random.normal(scale=1, size=(num_inputs, 1))\n",
    "\n",
    "# Linear regression.\n",
    "def net(X, w):\n",
    "    return np.dot(X, w)\n",
    "\n",
    "# Loss function.\n",
    "def square_loss(yhat, y):\n",
    "    return (yhat - y) ** 2 / 2\n",
    "\n",
    "# Gradient funtion\n",
    "def loss_grad(X, w, y):\n",
    "    X_1 = X[:,[0]]\n",
    "    X_2 = X[:,[1]]\n",
    "    temp = X.dot(w)-y\n",
    "    dldm = np.dot(X_1.T , temp)  \n",
    "    dldb = np.dot(X_2.T , temp)  \n",
    "    \n",
    "    return np.concatenate((dldm, dldb), axis = 0)"
   ]
  },
  {
   "cell_type": "code",
   "execution_count": 22,
   "metadata": {},
   "outputs": [],
   "source": [
    "%matplotlib inline\n",
    "import matplotlib as mpl\n",
    "mpl.rcParams['figure.dpi']= 120\n",
    "\n",
    "\n",
    "\n",
    "def train(batch_size, lr, epochs, period):\n",
    "    assert period >= batch_size and period % batch_size == 0\n",
    "    w = init_params()\n",
    "    \n",
    "    loss_true = np.mean(square_loss(net(X, true_w), y))\n",
    "    total_loss = [np.mean(square_loss(net(X, w), y))]\n",
    "    accesOfData = []\n",
    "    accesOfData_counter = 0\n",
    "    print(\"Theoretical optimal Loss: %f\" %\n",
    "         (loss_true))\n",
    "    \n",
    "    # Epoch starts from 1.\n",
    "    for epoch in range(1, epochs + 1):\n",
    "        # Decay learning rate.\n",
    "        if epoch > 2:\n",
    "            lr *= 0.9\n",
    "        for batch_i, data, label in data_iter(batch_size):\n",
    "            accesOfData_counter += 1 \n",
    "            gradient = loss_grad(data, w, label)\n",
    "            w = w - sgd(gradient, lr, batch_size)\n",
    "            if batch_i * batch_size % period == 0:\n",
    "                total_loss.append(\n",
    "                    np.mean(square_loss(net(X, w), y)))\n",
    "                accesOfData.append(accesOfData_counter)\n",
    "        print(\"Batch size %d, Learning rate %f, Epoch %d, loss %.4e , AccsesData num %d\" %\n",
    "              (batch_size, lr, epoch, total_loss[-1], accesOfData_counter))\n",
    "    print('w:', np.reshape(w, (1, -1)), '\\n')\n",
    "    x_axis = np.linspace(0, epochs, len(total_loss), endpoint=True)\n",
    "    #plt.semilogy(x_axis, total_loss)\n",
    "    plt.semilogy(x_axis, accesOfData)\n",
    "    plt.xlabel('epoch')\n",
    "    plt.ylabel('loss')\n",
    "    plt.show()"
   ]
  },
  {
   "cell_type": "code",
   "execution_count": 23,
   "metadata": {},
   "outputs": [
    {
     "name": "stdout",
     "output_type": "stream",
     "text": [
      "Theoretical optimal Loss: 0.004591\n",
      "Batch size 1, Learning rate 0.100000, Epoch 1, loss 4.6440e-03 , AccsesData num 100\n",
      "Batch size 1, Learning rate 0.100000, Epoch 2, loss 4.8045e-03 , AccsesData num 200\n",
      "Batch size 1, Learning rate 0.090000, Epoch 3, loss 5.0942e-03 , AccsesData num 300\n",
      "Batch size 1, Learning rate 0.081000, Epoch 4, loss 4.7582e-03 , AccsesData num 400\n",
      "Batch size 1, Learning rate 0.072900, Epoch 5, loss 4.4342e-03 , AccsesData num 500\n",
      "Batch size 1, Learning rate 0.065610, Epoch 6, loss 5.0924e-03 , AccsesData num 600\n",
      "Batch size 1, Learning rate 0.059049, Epoch 7, loss 4.5083e-03 , AccsesData num 700\n",
      "Batch size 1, Learning rate 0.053144, Epoch 8, loss 4.4731e-03 , AccsesData num 800\n",
      "Batch size 1, Learning rate 0.047830, Epoch 9, loss 4.4376e-03 , AccsesData num 900\n",
      "Batch size 1, Learning rate 0.043047, Epoch 10, loss 4.5742e-03 , AccsesData num 1000\n",
      "w: [[ 2.02815609e+00 -1.70786436e-04]] \n",
      "\n"
     ]
    },
    {
     "data": {
      "image/png": "[encoded data removed]",
      "text/plain": [
       "<Figure size 720x480 with 1 Axes>"
      ]
     },
     "metadata": {
      "needs_background": "light"
     },
     "output_type": "display_data"
    }
   ],
   "source": [
    "\n",
    "train(batch_size=1, lr=0.1, epochs=10, period=9)\n"
   ]
  },
  {
   "cell_type": "code",
   "execution_count": 9,
   "metadata": {},
   "outputs": [
    {
     "name": "stdout",
     "output_type": "stream",
     "text": [
      "Batch size 100, Learning rate 0.100000, Epoch 1, loss 1.8969e+00\n",
      "Batch size 100, Learning rate 0.100000, Epoch 2, loss 1.5504e+00\n",
      "Batch size 100, Learning rate 0.090000, Epoch 3, loss 1.2962e+00\n",
      "Batch size 100, Learning rate 0.081000, Epoch 4, loss 1.1055e+00\n",
      "Batch size 100, Learning rate 0.072900, Epoch 5, loss 9.5943e-01\n",
      "Batch size 100, Learning rate 0.065610, Epoch 6, loss 8.4556e-01\n",
      "Batch size 100, Learning rate 0.059049, Epoch 7, loss 7.5540e-01\n",
      "Batch size 100, Learning rate 0.053144, Epoch 8, loss 6.8303e-01\n",
      "Batch size 100, Learning rate 0.047830, Epoch 9, loss 6.2421e-01\n",
      "Batch size 100, Learning rate 0.043047, Epoch 10, loss 5.7589e-01\n",
      "Batch size 100, Learning rate 0.038742, Epoch 11, loss 5.3582e-01\n",
      "Batch size 100, Learning rate 0.034868, Epoch 12, loss 5.0229e-01\n",
      "Batch size 100, Learning rate 0.031381, Epoch 13, loss 4.7403e-01\n",
      "Batch size 100, Learning rate 0.028243, Epoch 14, loss 4.5005e-01\n",
      "Batch size 100, Learning rate 0.025419, Epoch 15, loss 4.2957e-01\n",
      "Batch size 100, Learning rate 0.022877, Epoch 16, loss 4.1199e-01\n",
      "Batch size 100, Learning rate 0.020589, Epoch 17, loss 3.9683e-01\n",
      "Batch size 100, Learning rate 0.018530, Epoch 18, loss 3.8369e-01\n",
      "Batch size 100, Learning rate 0.016677, Epoch 19, loss 3.7226e-01\n",
      "Batch size 100, Learning rate 0.015009, Epoch 20, loss 3.6229e-01\n",
      "Batch size 100, Learning rate 0.013509, Epoch 21, loss 3.5356e-01\n",
      "Batch size 100, Learning rate 0.012158, Epoch 22, loss 3.4589e-01\n",
      "Batch size 100, Learning rate 0.010942, Epoch 23, loss 3.3914e-01\n",
      "Batch size 100, Learning rate 0.009848, Epoch 24, loss 3.3319e-01\n",
      "Batch size 100, Learning rate 0.008863, Epoch 25, loss 3.2793e-01\n",
      "Batch size 100, Learning rate 0.007977, Epoch 26, loss 3.2327e-01\n",
      "Batch size 100, Learning rate 0.007179, Epoch 27, loss 3.1913e-01\n",
      "Batch size 100, Learning rate 0.006461, Epoch 28, loss 3.1546e-01\n",
      "Batch size 100, Learning rate 0.005815, Epoch 29, loss 3.1220e-01\n",
      "Batch size 100, Learning rate 0.005233, Epoch 30, loss 3.0929e-01\n",
      "Batch size 100, Learning rate 0.004710, Epoch 31, loss 3.0669e-01\n",
      "Batch size 100, Learning rate 0.004239, Epoch 32, loss 3.0438e-01\n",
      "Batch size 100, Learning rate 0.003815, Epoch 33, loss 3.0231e-01\n",
      "Batch size 100, Learning rate 0.003434, Epoch 34, loss 3.0047e-01\n",
      "Batch size 100, Learning rate 0.003090, Epoch 35, loss 2.9882e-01\n",
      "Batch size 100, Learning rate 0.002781, Epoch 36, loss 2.9734e-01\n",
      "Batch size 100, Learning rate 0.002503, Epoch 37, loss 2.9601e-01\n",
      "Batch size 100, Learning rate 0.002253, Epoch 38, loss 2.9483e-01\n",
      "Batch size 100, Learning rate 0.002028, Epoch 39, loss 2.9376e-01\n",
      "Batch size 100, Learning rate 0.001825, Epoch 40, loss 2.9281e-01\n",
      "Batch size 100, Learning rate 0.001642, Epoch 41, loss 2.9196e-01\n",
      "Batch size 100, Learning rate 0.001478, Epoch 42, loss 2.9119e-01\n",
      "Batch size 100, Learning rate 0.001330, Epoch 43, loss 2.9050e-01\n",
      "Batch size 100, Learning rate 0.001197, Epoch 44, loss 2.8988e-01\n",
      "Batch size 100, Learning rate 0.001078, Epoch 45, loss 2.8933e-01\n",
      "Batch size 100, Learning rate 0.000970, Epoch 46, loss 2.8883e-01\n",
      "Batch size 100, Learning rate 0.000873, Epoch 47, loss 2.8838e-01\n",
      "Batch size 100, Learning rate 0.000786, Epoch 48, loss 2.8798e-01\n",
      "Batch size 100, Learning rate 0.000707, Epoch 49, loss 2.8761e-01\n",
      "Batch size 100, Learning rate 0.000636, Epoch 50, loss 2.8729e-01\n",
      "Batch size 100, Learning rate 0.000573, Epoch 51, loss 2.8700e-01\n",
      "Batch size 100, Learning rate 0.000515, Epoch 52, loss 2.8673e-01\n",
      "Batch size 100, Learning rate 0.000464, Epoch 53, loss 2.8650e-01\n",
      "Batch size 100, Learning rate 0.000417, Epoch 54, loss 2.8628e-01\n",
      "Batch size 100, Learning rate 0.000376, Epoch 55, loss 2.8609e-01\n",
      "Batch size 100, Learning rate 0.000338, Epoch 56, loss 2.8592e-01\n",
      "Batch size 100, Learning rate 0.000304, Epoch 57, loss 2.8577e-01\n",
      "Batch size 100, Learning rate 0.000274, Epoch 58, loss 2.8563e-01\n",
      "Batch size 100, Learning rate 0.000247, Epoch 59, loss 2.8550e-01\n",
      "Batch size 100, Learning rate 0.000222, Epoch 60, loss 2.8539e-01\n",
      "Batch size 100, Learning rate 0.000200, Epoch 61, loss 2.8529e-01\n",
      "Batch size 100, Learning rate 0.000180, Epoch 62, loss 2.8520e-01\n",
      "Batch size 100, Learning rate 0.000162, Epoch 63, loss 2.8512e-01\n",
      "Batch size 100, Learning rate 0.000146, Epoch 64, loss 2.8504e-01\n",
      "Batch size 100, Learning rate 0.000131, Epoch 65, loss 2.8497e-01\n",
      "Batch size 100, Learning rate 0.000118, Epoch 66, loss 2.8492e-01\n",
      "Batch size 100, Learning rate 0.000106, Epoch 67, loss 2.8486e-01\n",
      "Batch size 100, Learning rate 0.000096, Epoch 68, loss 2.8481e-01\n",
      "Batch size 100, Learning rate 0.000086, Epoch 69, loss 2.8477e-01\n",
      "Batch size 100, Learning rate 0.000077, Epoch 70, loss 2.8473e-01\n",
      "Batch size 100, Learning rate 0.000070, Epoch 71, loss 2.8470e-01\n",
      "Batch size 100, Learning rate 0.000063, Epoch 72, loss 2.8466e-01\n",
      "Batch size 100, Learning rate 0.000056, Epoch 73, loss 2.8463e-01\n",
      "Batch size 100, Learning rate 0.000051, Epoch 74, loss 2.8461e-01\n",
      "Batch size 100, Learning rate 0.000046, Epoch 75, loss 2.8459e-01\n",
      "Batch size 100, Learning rate 0.000041, Epoch 76, loss 2.8457e-01\n",
      "Batch size 100, Learning rate 0.000037, Epoch 77, loss 2.8455e-01\n",
      "Batch size 100, Learning rate 0.000033, Epoch 78, loss 2.8453e-01\n",
      "Batch size 100, Learning rate 0.000030, Epoch 79, loss 2.8451e-01\n",
      "Batch size 100, Learning rate 0.000027, Epoch 80, loss 2.8450e-01\n",
      "Batch size 100, Learning rate 0.000024, Epoch 81, loss 2.8449e-01\n",
      "Batch size 100, Learning rate 0.000022, Epoch 82, loss 2.8448e-01\n",
      "Batch size 100, Learning rate 0.000020, Epoch 83, loss 2.8447e-01\n",
      "Batch size 100, Learning rate 0.000018, Epoch 84, loss 2.8446e-01\n",
      "Batch size 100, Learning rate 0.000016, Epoch 85, loss 2.8445e-01\n",
      "Batch size 100, Learning rate 0.000014, Epoch 86, loss 2.8444e-01\n",
      "Batch size 100, Learning rate 0.000013, Epoch 87, loss 2.8444e-01\n",
      "Batch size 100, Learning rate 0.000012, Epoch 88, loss 2.8443e-01\n",
      "Batch size 100, Learning rate 0.000010, Epoch 89, loss 2.8443e-01\n",
      "Batch size 100, Learning rate 0.000009, Epoch 90, loss 2.8442e-01\n",
      "Batch size 100, Learning rate 0.000008, Epoch 91, loss 2.8442e-01\n",
      "Batch size 100, Learning rate 0.000008, Epoch 92, loss 2.8441e-01\n",
      "Batch size 100, Learning rate 0.000007, Epoch 93, loss 2.8441e-01\n",
      "Batch size 100, Learning rate 0.000006, Epoch 94, loss 2.8441e-01\n",
      "Batch size 100, Learning rate 0.000006, Epoch 95, loss 2.8440e-01\n",
      "Batch size 100, Learning rate 0.000005, Epoch 96, loss 2.8440e-01\n",
      "Batch size 100, Learning rate 0.000004, Epoch 97, loss 2.8440e-01\n",
      "Batch size 100, Learning rate 0.000004, Epoch 98, loss 2.8440e-01\n",
      "Batch size 100, Learning rate 0.000004, Epoch 99, loss 2.8439e-01\n",
      "Batch size 100, Learning rate 0.000003, Epoch 100, loss 2.8439e-01\n",
      "w: [[ 1.34439582 -0.41134146]] \n",
      "\n"
     ]
    },
    {
     "data": {
      "image/png": "[encoded data removed]",
      "text/plain": [
       "<Figure size 720x480 with 1 Axes>"
      ]
     },
     "metadata": {
      "needs_background": "light"
     },
     "output_type": "display_data"
    }
   ],
   "source": [
    "\n",
    "train(batch_size=num_examples, lr=0.1, epochs=100, period=num_examples)\n"
   ]
  },
  {
   "cell_type": "code",
   "execution_count": null,
   "metadata": {},
   "outputs": [],
   "source": [
    "A.sum(axis=0)"
   ]
  },
  {
   "cell_type": "code",
   "execution_count": null,
   "metadata": {},
   "outputs": [],
   "source": [
    "X_b.shape"
   ]
  },
  {
   "cell_type": "code",
   "execution_count": null,
   "metadata": {},
   "outputs": [],
   "source": [
    "w = np.random.normal(scale=1, size=(num_inputs, 1))\n",
    "b = np.zeros(shape=(1,))"
   ]
  },
  {
   "cell_type": "code",
   "execution_count": null,
   "metadata": {},
   "outputs": [],
   "source": [
    "print(w.shape)"
   ]
  },
  {
   "cell_type": "code",
   "execution_count": null,
   "metadata": {},
   "outputs": [],
   "source": [
    "X = np.random.normal(scale=1, size=(10, 1))"
   ]
  },
  {
   "cell_type": "code",
   "execution_count": null,
   "metadata": {},
   "outputs": [],
   "source": [
    "print(X.shape)"
   ]
  },
  {
   "cell_type": "code",
   "execution_count": null,
   "metadata": {},
   "outputs": [],
   "source": [
    "np.c_[X,np.ones((len(X), 1))]"
   ]
  },
  {
   "cell_type": "code",
   "execution_count": null,
   "metadata": {},
   "outputs": [],
   "source": [
    "true_w = np.array([2, -3.4, 4.2])"
   ]
  },
  {
   "cell_type": "code",
   "execution_count": null,
   "metadata": {},
   "outputs": [],
   "source": [
    "true_w.shape"
   ]
  },
  {
   "cell_type": "code",
   "execution_count": null,
   "metadata": {},
   "outputs": [],
   "source": [
    "\n",
    "true_w = [2, -3.4, 4.2]\n",
    "true_w = np.reshape(true_w, (3, 1))\n",
    "X = np.random.normal(scale=1, size=(10, 3-1))\n",
    "X = np.c_[X,np.ones((len(X), 1))]  # Including the bias 1\n",
    "y = np.dot(X,true_w)\n",
    "#y = true_w[0] * X[:, 0] + true_w[1] * X[:, 1] + true_b\n",
    "y += .01 * np.random.normal(scale=1, size=y.shape)"
   ]
  },
  {
   "cell_type": "code",
   "execution_count": null,
   "metadata": {},
   "outputs": [],
   "source": []
  },
  {
   "cell_type": "code",
   "execution_count": null,
   "metadata": {},
   "outputs": [],
   "source": []
  }
 ],
 "metadata": {
  "kernelspec": {
   "display_name": "Python 3",
   "language": "python",
   "name": "python3"
  },
  "language_info": {
   "codemirror_mode": {
    "name": "ipython",
    "version": 3
   },
   "file_extension": ".py",
   "mimetype": "text/x-python",
   "name": "python",
   "nbconvert_exporter": "python",
   "pygments_lexer": "ipython3",
   "version": "3.8.5"
  }
 },
 "nbformat": 4,
 "nbformat_minor": 4
}
